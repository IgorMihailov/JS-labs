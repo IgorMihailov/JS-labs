{
 "cells": [
  {
   "cell_type": "markdown",
   "metadata": {},
   "source": [
    "###  Homework for Topics 1-4: Data Structures, Indexing, Cleaning Data, Math"
   ]
  },
  {
   "cell_type": "code",
   "execution_count": 199,
   "metadata": {},
   "outputs": [
    {
     "ename": "SyntaxError",
     "evalue": "invalid syntax (2535689898.py, line 1)",
     "output_type": "error",
     "traceback": [
      "\u001b[1;36m  Input \u001b[1;32mIn [199]\u001b[1;36m\u001b[0m\n\u001b[1;33m    Оценка заданий:\u001b[0m\n\u001b[1;37m           ^\u001b[0m\n\u001b[1;31mSyntaxError\u001b[0m\u001b[1;31m:\u001b[0m invalid syntax\n"
     ]
    }
   ],
   "source": [
    "Оценка заданий: \n",
    "Задание 1 - 1 балл    \n",
    "Задание 2 - 1 балл\n",
    "Задание 3 - 1 балл\n",
    "Задание 4 - 2 балла\n",
    "Задание 5 - 2 балла\n",
    "Задание 6 - 3 балла"
   ]
  },
  {
   "cell_type": "code",
   "execution_count": 200,
   "metadata": {
    "ExecuteTime": {
     "end_time": "2020-04-23T10:16:05.965275Z",
     "start_time": "2020-04-23T10:16:05.312704Z"
    }
   },
   "outputs": [],
   "source": [
    "import pandas as pd\n",
    "import numpy as np"
   ]
  },
  {
   "cell_type": "markdown",
   "metadata": {},
   "source": [
    "#### Задание 1.\n",
    "\n",
    "1. Используя функцию linspace из модуля numpy, создайте Series из последовательных 15 значений, которые равномерно разделяют отрезок [1, 20].(\\*)\n",
    "2. У полученной серии определите относительное процентное отклонение каждого элемента от его предыдущего (\\**). \n",
    "3. Получите среднее значение полученного на шаге 2. вектора, предварительно оставив в нём только те значения, которые не менее 0.1. \n",
    "\n",
    "\n",
    "##### Пояснения:\n",
    "(\\*) См. help(np.linspace). Пример: отрезок [0,1] равномерно разбивает последовательность из 3-х значений [0, 0.5, 1]. \n",
    "\n",
    "(\\**) См. help(pd.Series.pct_change). Для списока элементов a = [4, 1, 2, 10, 0], относительное процентное отклонение каждого элемента от его предыдущего: [NaN, -0.75, 1.00, 4.00, -1.00, -1.00]. \n"
   ]
  },
  {
   "cell_type": "code",
   "execution_count": 201,
   "metadata": {
    "ExecuteTime": {
     "end_time": "2020-04-23T10:13:26.017568Z",
     "start_time": "2020-04-23T10:13:26.014793Z"
    }
   },
   "outputs": [
    {
     "name": "stdout",
     "output_type": "stream",
     "text": [
      "mean:  0.3446163454512757\n"
     ]
    }
   ],
   "source": [
    "### Type your code here\n",
    "data = np.linspace(1, 20, 15)\n",
    "series = pd.Series(data)\n",
    "deviation = series.pct_change()\n",
    "\n",
    "deviation = deviation[deviation > 0.1]\n",
    "print(\"mean: \", deviation.mean())"
   ]
  },
  {
   "cell_type": "markdown",
   "metadata": {},
   "source": [
    "#### Задание 2.\n",
    "\n",
    "Получены зашумленные транзакционные данные (объект s). Для заданного ниже объекта s проделайте следующее:\n",
    "1. Создайте новую переменную s1, которая является Series объектом, значения которого совпадают со значениями s, а индексы - целочисленные значения от 2 до 12, не включая 12. \n",
    "2. Выберите из s1 элементы с индексами 2 и 5, после чего просуммируйте их, выведите результат. \n",
    "3. Выберите из s1 только целочисленные элементы (\\*) и вычислите их дисперсию (\\**). \n",
    "\n",
    "\n",
    "##### Пояснения:\n",
    "(\\*) Целочисленные значения - значения, имеющие тип int.\n",
    "\n",
    "(\\**) Дисперсия рассчитывается с помощью функции из библиотеки numpy: np.var( , ddof=0) или встроенной в python функции: .var(ddof=1)"
   ]
  },
  {
   "cell_type": "code",
   "execution_count": 202,
   "metadata": {
    "ExecuteTime": {
     "end_time": "2020-04-23T10:17:18.795695Z",
     "start_time": "2020-04-23T10:17:18.791449Z"
    }
   },
   "outputs": [],
   "source": [
    "s = pd.Series(data=['1', 2, 3.1, 'hi!', 5, -512, 12.42, 'sber', 10.10, 98], \n",
    "              index=range(6, 26, 2))"
   ]
  },
  {
   "cell_type": "code",
   "execution_count": 203,
   "metadata": {},
   "outputs": [
    {
     "name": "stdout",
     "output_type": "stream",
     "text": [
      "sum of [2] and [5]:  1hi!\n",
      "var:  57591.1875\n"
     ]
    }
   ],
   "source": [
    "### Type your code here\n",
    "s1 = pd.Series(data = s.values, index = range(2, 12, 1))\n",
    "print(\"sum of [2] and [5]: \", s1[2] + s1[5])\n",
    "\n",
    "s1 = s1[s1.map(type).eq(int)]\n",
    "print(\"var: \",np.var(s1, ddof=0))"
   ]
  },
  {
   "cell_type": "markdown",
   "metadata": {},
   "source": [
    "#### Задание 3. \n",
    "1. Сгенерируйте Series из 100 значений нормально распределённой случайной величины (\\*). \n",
    "2. Возведите каждое значение серии в 3 степень, а значения индекса увеличьте в 3 раза. \n",
    "3. Выведите сумму элементов, строго меньших 2.6, имеющих нечётные значения индекса. \n",
    "4. Выведите количество значений серии меньше нуля.\n",
    "\n",
    "#### Пояснения:\n",
    "(\\*) См. help(np.random.normal) с size=100 и дефолтными параметрами: нулевым средним и единичной дисперсией.\n",
    "\n",
    "- В задаче зафиксирован seed для np.random.normal, его менять не нужно! Определенное значение seed нужно, чтобы обеспечить генерацию одинаковые series).\n",
    "\n",
    "- Следует использовать [ ] для выбора данных по нескольким условиям: либо выбирать данные последовательно, либо сразу по нескольким условиям, но через оператор &. Отличие оператора and от оператора &: and выводит последнее проверенное значение, & выводит пересечение значений."
   ]
  },
  {
   "cell_type": "code",
   "execution_count": 204,
   "metadata": {
    "ExecuteTime": {
     "end_time": "2020-04-23T10:18:35.713300Z",
     "start_time": "2020-04-23T10:18:35.710616Z"
    }
   },
   "outputs": [
    {
     "name": "stdout",
     "output_type": "stream",
     "text": [
      "sum:  -15.150748101821666\n",
      "elements less zero:  51\n"
     ]
    }
   ],
   "source": [
    "np.random.seed(242)\n",
    "### Type your code here\n",
    "s = pd.Series(data = np.random.normal(size = 100))\n",
    "s = s.map(lambda x: x**3)\n",
    "s.index = s.index * 3\n",
    "\n",
    "print(\"sum: \", s[(s < 2.6) & (s.index % 2 == 1)].sum())\n",
    "print(\"elements less zero: \", s[s < 0].size)"
   ]
  },
  {
   "cell_type": "markdown",
   "metadata": {},
   "source": [
    "### Информация для последующих заданий\n",
    "- Для всех последующих заданий будем использовать обезличенные транзакционные банковские данные. Для этого считайте в переменные tr_mcc_codes, tr_types, transactions и gender_train из одноимённых таблиц из папки data. Для таблицы transactions используйте только первые n=1000000 строк. Обратите внимание на разделители внутри каждого из файлов - они могут различаться!"
   ]
  },
  {
   "cell_type": "code",
   "execution_count": 205,
   "metadata": {
    "ExecuteTime": {
     "end_time": "2020-04-23T10:19:13.080203Z",
     "start_time": "2020-04-23T10:19:13.077711Z"
    }
   },
   "outputs": [],
   "source": [
    "### Type your code here\n",
    "tr_mcc_codes = pd.read_csv(filepath_or_buffer = r\"tr_mcc_codes.csv\",\n",
    "                           sep = ';')\n",
    "tr_types = pd.read_csv(filepath_or_buffer = r\"tr_types.csv\", \n",
    "                      sep = ';')\n",
    "transactions = pd.read_csv(filepath_or_buffer = r\"transactions.csv\",\n",
    "                           sep = ',',\n",
    "                           nrows=1000000)\n",
    "gender_train = pd.read_csv(filepath_or_buffer = r\"gender_train.csv\",\n",
    "                           sep = ',')"
   ]
  },
  {
   "cell_type": "markdown",
   "metadata": {},
   "source": [
    "## Описание данных\n",
    "### Таблица ```transactions.csv```\n",
    "##### Описание\n",
    "Таблица содержит историю транзакций клиентов банка за один год и три месяца.\n",
    "\n",
    "##### Формат данных\n",
    "\n",
    "```\n",
    "customer_id,tr_datetime,mcc_code,tr_type,amount,term_id\n",
    "111111,15 01:40:52,1111,1000,-5224,111111\n",
    "111112,15 15:18:32,3333,2000,-100,11122233\n",
    "...\n",
    "```\n",
    "##### Описание полей\n",
    "\n",
    " - ```customer_id``` — идентификатор клиента;\n",
    " - ```tr_datetime``` — день и время совершения транзакции (дни нумеруются с начала данных);\n",
    " - ```mcc_code``` — mcc-код транзакции;\n",
    " - ```tr_type``` — тип транзакции;\n",
    " - ```amount``` — сумма транзакции в условных единицах со знаком; ```+``` — начисление средств клиенту (приходная транзакция), ```-``` — списание средств (расходная транзакция);\n",
    " - ```term_id``` — идентификатор терминала;\n",
    "\n",
    "\n",
    "### Таблица ```gender_train.csv```\n",
    "\n",
    "##### Описание\n",
    "Данная таблица содержит информацию по полу для части клиентов, для которых он известен. Для остальных клиентов пол неизвестен.\n",
    "\n",
    "##### Формат данных\n",
    "```\n",
    "customer_id,gender\n",
    "111111,0\n",
    "111112,1\n",
    "...\n",
    "```\n",
    "\n",
    "##### Описание полей\n",
    " - ```customer_id``` — идентификатор клиента;\n",
    " - ```gender``` — пол клиента;\n",
    "\n",
    "### Таблица ```tr_mcc_codes.csv```\n",
    "\n",
    "##### Описание\n",
    "Данная таблица содержит описание mcc-кодов транзакций.\n",
    "\n",
    "##### Формат данных\n",
    "```\n",
    "mcc_code;mcc_description\n",
    "1000;словесное описание mcc-кода 1000\n",
    "2000;словесное описание mcc-кода 2000\n",
    "...\n",
    "```\n",
    "\n",
    "##### Описание полей\n",
    " - ```mcc_code``` – mcc-код транзакции;\n",
    " - ```mcc_description``` — описание mcc-кода транзакции.\n",
    "\n",
    "### Таблица ```tr_types.csv```\n",
    "\n",
    "##### Описание\n",
    "Данная таблица содержит описание типов транзакций.\n",
    "\n",
    "##### Формат данных\n",
    "```\n",
    "tr_type;tr_description\n",
    "1000;словесное описание типа транзакции 1000\n",
    "2000;словесное описание типа транзакции 2000\n",
    "...\n",
    "```\n",
    "\n",
    "##### Описание полей\n",
    " - ```tr_type``` – тип транзакции;\n",
    " - ```tr_description``` — описание типа транзакции;"
   ]
  },
  {
   "cell_type": "markdown",
   "metadata": {},
   "source": [
    "#### Задание 4.\n",
    "1. В tr_types с помощью метода sample выберите произвольные 100 строк, указав при этом random_seed равный 242.\n",
    "2. В полученной на предыдущем этапе подвыборке найдите долю наблюдений (стобец tr_description), в которой содержится подстрока 'плата' (в любом регистре). (\\*)\n",
    "\n",
    "Выведите ответ в виде вещественного числа, округлённого до двух знаков после запятой.\n",
    "\n",
    "##### Пояснения:\n",
    "(\\*) Строки \"ПлатА за аренду\", \"ПлатАза аренду\", \"ПЛАТА\" удовлетворяют условию, так как будучи переведёнными в нижний регистр содержат подстроку \"плата\". См. help(pd.Series.str.contains)"
   ]
  },
  {
   "cell_type": "code",
   "execution_count": 206,
   "metadata": {
    "ExecuteTime": {
     "end_time": "2020-04-23T10:19:45.872766Z",
     "start_time": "2020-04-23T10:19:45.870317Z"
    },
    "scrolled": true
   },
   "outputs": [
    {
     "name": "stdout",
     "output_type": "stream",
     "text": [
      "Доля наблюдений:  0.26\n"
     ]
    }
   ],
   "source": [
    "np.random.seed(242)\n",
    "### Type your code here\n",
    "import re\n",
    "s = tr_types.sample(n = 100)\n",
    "result_s = s['tr_description'].str.contains('ПЛАТА', flags = re.IGNORECASE, regex=True)\n",
    "\n",
    "print(\"Доля наблюдений: \", np.around(result_s[result_s == True].size / 100, 2))"
   ]
  },
  {
   "cell_type": "markdown",
   "metadata": {},
   "source": [
    "#### Задание 5.\n",
    "1. Для поля tr_type датафрейма transactions посчитайте частоту встречаемости всех типов транзакций tr_type в transactions.\n",
    "2. Из перечисленных вариантов выведите те, которые попали в топ-5 транзакций по частоте встречаемости.\n"
   ]
  },
  {
   "cell_type": "code",
   "execution_count": 207,
   "metadata": {
    "ExecuteTime": {
     "end_time": "2020-04-23T10:20:31.273965Z",
     "start_time": "2020-04-23T10:20:31.271483Z"
    }
   },
   "outputs": [
    {
     "data": {
      "text/plain": [
       "1010    0.231117\n",
       "2010    0.151166\n",
       "7070    0.149006\n",
       "1110    0.137658\n",
       "1030    0.118975\n",
       "Name: tr_type, dtype: float64"
      ]
     },
     "execution_count": 207,
     "metadata": {},
     "output_type": "execute_result"
    }
   ],
   "source": [
    "### Type your code here\n",
    "counts = transactions['tr_type'].value_counts(normalize=True)\n",
    "counts.head(5)"
   ]
  },
  {
   "cell_type": "markdown",
   "metadata": {},
   "source": [
    "#### Задание 6.\n",
    "1. Найдите максимальную разницу между медианами суммы транзакций, посчитанными при заданных ниже условиях по полю amount из таблицы transactions (\\*):\n",
    "    - Медиана суммы транзакций\n",
    "    - Медиана суммы транзакций по тем строкам, которые ни в одном из своих столбцов не содержат пустые значения\n",
    "    - Медиана суммы транзакций по строкам, отсортированным по полю amount в порядке возрастания, и из которых удалены дублирующиеся по столбцам [mcc_code, tr_type] строки, причём при удалении соответстующих дублей остаются только последние из дублирующихся строк (keep='last')\n",
    "\n",
    "Выведите ответ в виде вещественного числа, округлённого до двух знаков после запятой, отделив дробную часть точкой в формате \"123.45\"\n",
    "\n",
    "##### Пояснения:\n",
    "(\\*)  Если в результате получились значения [1,3,5], то макимальная разница между ними 4 == 5-1. Для вычисления максимальной разницы между значениями списка можно, например использовать функцию np.ptp  "
   ]
  },
  {
   "cell_type": "code",
   "execution_count": 208,
   "metadata": {
    "ExecuteTime": {
     "end_time": "2020-04-23T10:21:36.645933Z",
     "start_time": "2020-04-23T10:21:36.643612Z"
    },
    "scrolled": true
   },
   "outputs": [
    {
     "name": "stdout",
     "output_type": "stream",
     "text": [
      "max diff:  31828457942693.26\n"
     ]
    }
   ],
   "source": [
    "### Type your code here\n",
    "p1 = transactions\n",
    "p2 = transactions.dropna()\n",
    "p3 = transactions.sort_values(by=['amount']).drop_duplicates(subset=['mcc_code', 'tr_type'], keep='last')\n",
    "\n",
    "medians = np.array([np.var(p1['amount']),\n",
    "                      np.var(p2['amount']),\n",
    "                      np.var(p3['amount'])])\n",
    "\n",
    "print('max diff: ', np.around(np.ptp(medians), 2))"
   ]
  },
  {
   "cell_type": "code",
   "execution_count": null,
   "metadata": {},
   "outputs": [],
   "source": []
  },
  {
   "cell_type": "code",
   "execution_count": null,
   "metadata": {},
   "outputs": [],
   "source": []
  },
  {
   "cell_type": "code",
   "execution_count": null,
   "metadata": {},
   "outputs": [],
   "source": []
  }
 ],
 "metadata": {
  "hide_input": false,
  "kernelspec": {
   "display_name": "Python 3 (ipykernel)",
   "language": "python",
   "name": "python3"
  },
  "language_info": {
   "codemirror_mode": {
    "name": "ipython",
    "version": 3
   },
   "file_extension": ".py",
   "mimetype": "text/x-python",
   "name": "python",
   "nbconvert_exporter": "python",
   "pygments_lexer": "ipython3",
   "version": "3.9.1"
  },
  "toc": {
   "base_numbering": 1,
   "nav_menu": {},
   "number_sections": true,
   "sideBar": true,
   "skip_h1_title": false,
   "title_cell": "Table of Contents",
   "title_sidebar": "Contents",
   "toc_cell": true,
   "toc_position": {},
   "toc_section_display": true,
   "toc_window_display": false
  },
  "varInspector": {
   "cols": {
    "lenName": 16,
    "lenType": 16,
    "lenVar": 40
   },
   "kernels_config": {
    "python": {
     "delete_cmd_postfix": "",
     "delete_cmd_prefix": "del ",
     "library": "var_list.py",
     "varRefreshCmd": "print(var_dic_list())"
    },
    "r": {
     "delete_cmd_postfix": ") ",
     "delete_cmd_prefix": "rm(",
     "library": "var_list.r",
     "varRefreshCmd": "cat(var_dic_list()) "
    }
   },
   "types_to_exclude": [
    "module",
    "function",
    "builtin_function_or_method",
    "instance",
    "_Feature"
   ],
   "window_display": false
  }
 },
 "nbformat": 4,
 "nbformat_minor": 2
}
